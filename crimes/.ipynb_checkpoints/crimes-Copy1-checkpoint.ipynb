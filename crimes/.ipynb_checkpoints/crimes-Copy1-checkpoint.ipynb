{
 "cells": [
  {
   "cell_type": "code",
   "execution_count": 117,
   "metadata": {},
   "outputs": [],
   "source": [
    "import pandas as pd\n",
    "from matplotlib import pyplot as plt"
   ]
  },
  {
   "cell_type": "code",
   "execution_count": 154,
   "metadata": {},
   "outputs": [],
   "source": [
    "data = pd.read_csv(\"crimes_new.csv\", parse_dates=['date'])\n",
    "# data.loc[:, data.columns.isin(['grid', 'beat', 'district', 'address'])].head()"
   ]
  },
  {
   "cell_type": "code",
   "execution_count": 169,
   "metadata": {},
   "outputs": [
    {
     "name": "stdout",
     "output_type": "stream",
     "text": [
      "3555 AUBURN BLVD\n"
     ]
    }
   ],
   "source": [
    "g = data.groupby('address')\n",
    "mx = g['date'].count().max()\n",
    "for i, j in g:\n",
    "    if j['date'].count() == mx:\n",
    "        print(i)\n",
    "        break\n"
   ]
  },
  {
   "cell_type": "code",
   "execution_count": 175,
   "metadata": {},
   "outputs": [
    {
     "data": {
      "text/plain": [
       "0                          3108 OCCIDENTAL DR\n",
       "1                         2082 EXPEDITION WAY\n",
       "2                                  4 PALEN CT\n",
       "3                              22 BECKFORD CT\n",
       "4                            3421 AUBURN BLVD\n",
       "5                          5301 BONNIEMAE WAY\n",
       "6                               2217 16TH AVE\n",
       "7                                   3547 P ST\n",
       "8                            3421 AUBURN BLVD\n",
       "9                           1326 HELMSMAN WAY\n",
       "10                         2315 STOCKTON BLVD\n",
       "11                               5112 63RD ST\n",
       "12                          6351 DRIFTWOOD ST\n",
       "13                       7721 COLLEGE TOWN DR\n",
       "14                            8460 ROVANA CIR\n",
       "15                              4856 11TH AVE\n",
       "16                               6033 69TH ST\n",
       "17                                   547 L ST\n",
       "18                               3525 42ND ST\n",
       "19                            5641 DORSET WAY\n",
       "20                           5551 REXLEIGH CT\n",
       "21                             1896 ARDEN WAY\n",
       "22                        6168 RIVERSIDE BLVD\n",
       "23                            415 SEXTANT WAY\n",
       "24                                15 BASIN CT\n",
       "25                               3340 62ND ST\n",
       "26                          4280 DEER HILL DR\n",
       "27                                2814 5TH ST\n",
       "28                             1816 FLORIN RD\n",
       "29                              1260 BELL AVE\n",
       "                        ...                  \n",
       "7554                       6125 STOCKTON BLVD\n",
       "7555                        6645 VALLEY HI DR\n",
       "7556              DIXIEANNE AVE / ERICKSON ST\n",
       "7557                       2400 DEL PASO BLVD\n",
       "7558                          8689 CARLIN AVE\n",
       "7559    23RD AVE / MARTIN LUTHER KING JR BLVD\n",
       "7560                       47TH ST / 14TH AVE\n",
       "7561                       BROADWAY / 42ND ST\n",
       "7562                           13TH ST / G ST\n",
       "7563                     34TH ST / TEMPLE AVE\n",
       "7564           STOCKTON BLVD / ELDER CREEK RD\n",
       "7565                             1225 48TH ST\n",
       "7566                             1416 18TH ST\n",
       "7567                               925 3RD ST\n",
       "7568                           16TH ST / Q ST\n",
       "7569                        34TH ST / 3RD AVE\n",
       "7570                             1856 3RD AVE\n",
       "7571                  TAFT ST / EL CAMINO AVE\n",
       "7572                           X ST / 33RD ST\n",
       "7573                             3543 1ST AVE\n",
       "7574                           3651 BRANCH ST\n",
       "7575                       1857 DISCOVERY WAY\n",
       "7576                 NATOMA WAY / ROANOKE AVE\n",
       "7577                       7897 LA RIVIERA DR\n",
       "7578                  39TH ST / STOCKTON BLVD\n",
       "7579                           26TH ST / G ST\n",
       "7580                       4011 FREEPORT BLVD\n",
       "7581                           30TH ST / K ST\n",
       "7582                       5303 FRANKLIN BLVD\n",
       "7583        COBBLE COVE LN / COBBLE SHORES DR\n",
       "Name: address, Length: 7584, dtype: object"
      ]
     },
     "execution_count": 175,
     "metadata": {},
     "output_type": "execute_result"
    }
   ],
   "source": [
    "data['address']"
   ]
  },
  {
   "cell_type": "code",
   "execution_count": null,
   "metadata": {},
   "outputs": [],
   "source": []
  }
 ],
 "metadata": {
  "kernelspec": {
   "display_name": "Python 2",
   "language": "python",
   "name": "python2"
  },
  "language_info": {
   "codemirror_mode": {
    "name": "ipython",
    "version": 3
   },
   "file_extension": ".py",
   "mimetype": "text/x-python",
   "name": "python",
   "nbconvert_exporter": "python",
   "pygments_lexer": "ipython3",
   "version": "3.6.7"
  }
 },
 "nbformat": 4,
 "nbformat_minor": 2
}
